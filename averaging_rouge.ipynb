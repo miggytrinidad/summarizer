{
 "cells": [
  {
   "cell_type": "markdown",
   "metadata": {},
   "source": [
    "This is the implementation of Algorithm 1 found in project paper that calculates the average of Rouge scores of each models using the first 100 BBC business news articles.  In order to perform an experimental comparison with four extractive summarization techniques, we extract six sentences from each article in order to compose the summary. \n",
    "1. the value of the evaluation measure F1, Recall, Precision were calculated for each article\n",
    "2. take the average of those scores to arrive at a consolidated F1, Recall and Precision scores for each Rouge"
   ]
  },
  {
   "cell_type": "code",
   "execution_count": 124,
   "metadata": {
    "ExecuteTime": {
     "end_time": "2020-08-21T10:51:18.794243Z",
     "start_time": "2020-08-21T10:50:36.919760Z"
    },
    "colab": {
     "base_uri": "https://localhost:8080/",
     "height": 1000
    },
    "colab_type": "code",
    "id": "Gj-j8iTVmXPF",
    "outputId": "5828b319-fa61-49f8-f8c1-1dab18fedb64"
   },
   "outputs": [
    {
     "name": "stdout",
     "output_type": "stream",
     "text": [
      "Requirement already satisfied: bert-extractive-summarizer in c:\\users\\marti\\anaconda3\\lib\\site-packages (0.5.0)\n",
      "Requirement already satisfied: transformers in c:\\users\\marti\\anaconda3\\lib\\site-packages (from bert-extractive-summarizer) (2.2.2)\n",
      "Requirement already satisfied: spacy in c:\\users\\marti\\anaconda3\\lib\\site-packages (from bert-extractive-summarizer) (2.1.3)\n",
      "Requirement already satisfied: scikit-learn in c:\\users\\marti\\anaconda3\\lib\\site-packages (from bert-extractive-summarizer) (0.22.1)\n",
      "Requirement already satisfied: boto3 in c:\\users\\marti\\anaconda3\\lib\\site-packages (from transformers->bert-extractive-summarizer) (1.14.47)\n",
      "Requirement already satisfied: sacremoses in c:\\users\\marti\\anaconda3\\lib\\site-packages (from transformers->bert-extractive-summarizer) (0.0.43)\n",
      "Requirement already satisfied: tqdm in c:\\users\\marti\\anaconda3\\lib\\site-packages (from transformers->bert-extractive-summarizer) (4.42.1)\n",
      "Requirement already satisfied: requests in c:\\users\\marti\\anaconda3\\lib\\site-packages (from transformers->bert-extractive-summarizer) (2.22.0)\n",
      "Requirement already satisfied: sentencepiece in c:\\users\\marti\\anaconda3\\lib\\site-packages (from transformers->bert-extractive-summarizer) (0.1.91)\n",
      "Requirement already satisfied: numpy in c:\\users\\marti\\anaconda3\\lib\\site-packages (from transformers->bert-extractive-summarizer) (1.18.1)\n",
      "Requirement already satisfied: regex in c:\\users\\marti\\anaconda3\\lib\\site-packages (from transformers->bert-extractive-summarizer) (2020.7.14)\n",
      "Requirement already satisfied: murmurhash<1.1.0,>=0.28.0 in c:\\users\\marti\\anaconda3\\lib\\site-packages (from spacy->bert-extractive-summarizer) (1.0.2)\n",
      "Requirement already satisfied: cymem<2.1.0,>=2.0.2 in c:\\users\\marti\\anaconda3\\lib\\site-packages (from spacy->bert-extractive-summarizer) (2.0.3)\n",
      "Requirement already satisfied: srsly<1.1.0,>=0.0.5 in c:\\users\\marti\\anaconda3\\lib\\site-packages (from spacy->bert-extractive-summarizer) (1.0.1)\n",
      "Requirement already satisfied: thinc<7.1.0,>=7.0.2 in c:\\users\\marti\\anaconda3\\lib\\site-packages (from spacy->bert-extractive-summarizer) (7.0.8)\n",
      "Requirement already satisfied: wasabi<1.1.0,>=0.2.0 in c:\\users\\marti\\anaconda3\\lib\\site-packages (from spacy->bert-extractive-summarizer) (0.6.0)\n",
      "Requirement already satisfied: blis<0.3.0,>=0.2.2 in c:\\users\\marti\\anaconda3\\lib\\site-packages (from spacy->bert-extractive-summarizer) (0.2.4)\n",
      "Requirement already satisfied: plac<1.0.0,>=0.9.6 in c:\\users\\marti\\anaconda3\\lib\\site-packages (from spacy->bert-extractive-summarizer) (0.9.6)\n",
      "Requirement already satisfied: preshed<2.1.0,>=2.0.1 in c:\\users\\marti\\anaconda3\\lib\\site-packages (from spacy->bert-extractive-summarizer) (2.0.1)\n",
      "Requirement already satisfied: jsonschema<3.0.0,>=2.6.0 in c:\\users\\marti\\anaconda3\\lib\\site-packages (from spacy->bert-extractive-summarizer) (2.6.0)\n",
      "Requirement already satisfied: scipy>=0.17.0 in c:\\users\\marti\\anaconda3\\lib\\site-packages (from scikit-learn->bert-extractive-summarizer) (1.4.1)\n",
      "Requirement already satisfied: joblib>=0.11 in c:\\users\\marti\\anaconda3\\lib\\site-packages (from scikit-learn->bert-extractive-summarizer) (0.14.1)\n",
      "Requirement already satisfied: s3transfer<0.4.0,>=0.3.0 in c:\\users\\marti\\anaconda3\\lib\\site-packages (from boto3->transformers->bert-extractive-summarizer) (0.3.3)\n",
      "Requirement already satisfied: jmespath<1.0.0,>=0.7.1 in c:\\users\\marti\\anaconda3\\lib\\site-packages (from boto3->transformers->bert-extractive-summarizer) (0.10.0)\n",
      "Requirement already satisfied: botocore<1.18.0,>=1.17.47 in c:\\users\\marti\\anaconda3\\lib\\site-packages (from boto3->transformers->bert-extractive-summarizer) (1.17.47)\n",
      "Requirement already satisfied: click in c:\\users\\marti\\anaconda3\\lib\\site-packages (from sacremoses->transformers->bert-extractive-summarizer) (7.0)\n",
      "Requirement already satisfied: six in c:\\users\\marti\\anaconda3\\lib\\site-packages (from sacremoses->transformers->bert-extractive-summarizer) (1.14.0)\n",
      "Requirement already satisfied: certifi>=2017.4.17 in c:\\users\\marti\\anaconda3\\lib\\site-packages (from requests->transformers->bert-extractive-summarizer) (2020.4.5.1)\n",
      "Requirement already satisfied: idna<2.9,>=2.5 in c:\\users\\marti\\anaconda3\\lib\\site-packages (from requests->transformers->bert-extractive-summarizer) (2.8)\n",
      "Requirement already satisfied: urllib3!=1.25.0,!=1.25.1,<1.26,>=1.21.1 in c:\\users\\marti\\anaconda3\\lib\\site-packages (from requests->transformers->bert-extractive-summarizer) (1.25.8)\n",
      "Requirement already satisfied: chardet<3.1.0,>=3.0.2 in c:\\users\\marti\\anaconda3\\lib\\site-packages (from requests->transformers->bert-extractive-summarizer) (3.0.4)\n",
      "Requirement already satisfied: python-dateutil<3.0.0,>=2.1 in c:\\users\\marti\\anaconda3\\lib\\site-packages (from botocore<1.18.0,>=1.17.47->boto3->transformers->bert-extractive-summarizer) (2.8.1)\n",
      "Requirement already satisfied: docutils<0.16,>=0.10 in c:\\users\\marti\\anaconda3\\lib\\site-packages (from botocore<1.18.0,>=1.17.47->boto3->transformers->bert-extractive-summarizer) (0.15.2)\n",
      "Requirement already satisfied: spacy==2.1.3 in c:\\users\\marti\\anaconda3\\lib\\site-packages (2.1.3)\n",
      "Requirement already satisfied: wasabi<1.1.0,>=0.2.0 in c:\\users\\marti\\anaconda3\\lib\\site-packages (from spacy==2.1.3) (0.6.0)\n",
      "Requirement already satisfied: preshed<2.1.0,>=2.0.1 in c:\\users\\marti\\anaconda3\\lib\\site-packages (from spacy==2.1.3) (2.0.1)\n",
      "Requirement already satisfied: blis<0.3.0,>=0.2.2 in c:\\users\\marti\\anaconda3\\lib\\site-packages (from spacy==2.1.3) (0.2.4)\n",
      "Requirement already satisfied: requests<3.0.0,>=2.13.0 in c:\\users\\marti\\anaconda3\\lib\\site-packages (from spacy==2.1.3) (2.22.0)\n",
      "Requirement already satisfied: srsly<1.1.0,>=0.0.5 in c:\\users\\marti\\anaconda3\\lib\\site-packages (from spacy==2.1.3) (1.0.1)\n",
      "Requirement already satisfied: cymem<2.1.0,>=2.0.2 in c:\\users\\marti\\anaconda3\\lib\\site-packages (from spacy==2.1.3) (2.0.3)\n",
      "Requirement already satisfied: plac<1.0.0,>=0.9.6 in c:\\users\\marti\\anaconda3\\lib\\site-packages (from spacy==2.1.3) (0.9.6)\n",
      "Requirement already satisfied: jsonschema<3.0.0,>=2.6.0 in c:\\users\\marti\\anaconda3\\lib\\site-packages (from spacy==2.1.3) (2.6.0)\n",
      "Requirement already satisfied: numpy>=1.15.0 in c:\\users\\marti\\anaconda3\\lib\\site-packages (from spacy==2.1.3) (1.18.1)\n",
      "Requirement already satisfied: thinc<7.1.0,>=7.0.2 in c:\\users\\marti\\anaconda3\\lib\\site-packages (from spacy==2.1.3) (7.0.8)\n",
      "Requirement already satisfied: murmurhash<1.1.0,>=0.28.0 in c:\\users\\marti\\anaconda3\\lib\\site-packages (from spacy==2.1.3) (1.0.2)\n",
      "Requirement already satisfied: chardet<3.1.0,>=3.0.2 in c:\\users\\marti\\anaconda3\\lib\\site-packages (from requests<3.0.0,>=2.13.0->spacy==2.1.3) (3.0.4)\n",
      "Requirement already satisfied: certifi>=2017.4.17 in c:\\users\\marti\\anaconda3\\lib\\site-packages (from requests<3.0.0,>=2.13.0->spacy==2.1.3) (2020.4.5.1)\n",
      "Requirement already satisfied: idna<2.9,>=2.5 in c:\\users\\marti\\anaconda3\\lib\\site-packages (from requests<3.0.0,>=2.13.0->spacy==2.1.3) (2.8)\n",
      "Requirement already satisfied: urllib3!=1.25.0,!=1.25.1,<1.26,>=1.21.1 in c:\\users\\marti\\anaconda3\\lib\\site-packages (from requests<3.0.0,>=2.13.0->spacy==2.1.3) (1.25.8)\n",
      "Requirement already satisfied: tqdm<5.0.0,>=4.10.0 in c:\\users\\marti\\anaconda3\\lib\\site-packages (from thinc<7.1.0,>=7.0.2->spacy==2.1.3) (4.42.1)\n",
      "Requirement already satisfied: transformers==2.2.2 in c:\\users\\marti\\anaconda3\\lib\\site-packages (2.2.2)\n",
      "Requirement already satisfied: numpy in c:\\users\\marti\\anaconda3\\lib\\site-packages (from transformers==2.2.2) (1.18.1)\n",
      "Requirement already satisfied: sentencepiece in c:\\users\\marti\\anaconda3\\lib\\site-packages (from transformers==2.2.2) (0.1.91)\n",
      "Requirement already satisfied: regex in c:\\users\\marti\\anaconda3\\lib\\site-packages (from transformers==2.2.2) (2020.7.14)\n",
      "Requirement already satisfied: tqdm in c:\\users\\marti\\anaconda3\\lib\\site-packages (from transformers==2.2.2) (4.42.1)\n",
      "Requirement already satisfied: requests in c:\\users\\marti\\anaconda3\\lib\\site-packages (from transformers==2.2.2) (2.22.0)\n",
      "Requirement already satisfied: boto3 in c:\\users\\marti\\anaconda3\\lib\\site-packages (from transformers==2.2.2) (1.14.47)\n",
      "Requirement already satisfied: sacremoses in c:\\users\\marti\\anaconda3\\lib\\site-packages (from transformers==2.2.2) (0.0.43)\n",
      "Requirement already satisfied: certifi>=2017.4.17 in c:\\users\\marti\\anaconda3\\lib\\site-packages (from requests->transformers==2.2.2) (2020.4.5.1)\n",
      "Requirement already satisfied: idna<2.9,>=2.5 in c:\\users\\marti\\anaconda3\\lib\\site-packages (from requests->transformers==2.2.2) (2.8)\n",
      "Requirement already satisfied: urllib3!=1.25.0,!=1.25.1,<1.26,>=1.21.1 in c:\\users\\marti\\anaconda3\\lib\\site-packages (from requests->transformers==2.2.2) (1.25.8)\n",
      "Requirement already satisfied: chardet<3.1.0,>=3.0.2 in c:\\users\\marti\\anaconda3\\lib\\site-packages (from requests->transformers==2.2.2) (3.0.4)\n",
      "Requirement already satisfied: botocore<1.18.0,>=1.17.47 in c:\\users\\marti\\anaconda3\\lib\\site-packages (from boto3->transformers==2.2.2) (1.17.47)\n",
      "Requirement already satisfied: jmespath<1.0.0,>=0.7.1 in c:\\users\\marti\\anaconda3\\lib\\site-packages (from boto3->transformers==2.2.2) (0.10.0)\n",
      "Requirement already satisfied: s3transfer<0.4.0,>=0.3.0 in c:\\users\\marti\\anaconda3\\lib\\site-packages (from boto3->transformers==2.2.2) (0.3.3)\n",
      "Requirement already satisfied: six in c:\\users\\marti\\anaconda3\\lib\\site-packages (from sacremoses->transformers==2.2.2) (1.14.0)\n",
      "Requirement already satisfied: click in c:\\users\\marti\\anaconda3\\lib\\site-packages (from sacremoses->transformers==2.2.2) (7.0)\n",
      "Requirement already satisfied: joblib in c:\\users\\marti\\anaconda3\\lib\\site-packages (from sacremoses->transformers==2.2.2) (0.14.1)\n",
      "Requirement already satisfied: python-dateutil<3.0.0,>=2.1 in c:\\users\\marti\\anaconda3\\lib\\site-packages (from botocore<1.18.0,>=1.17.47->boto3->transformers==2.2.2) (2.8.1)\n",
      "Requirement already satisfied: docutils<0.16,>=0.10 in c:\\users\\marti\\anaconda3\\lib\\site-packages (from botocore<1.18.0,>=1.17.47->boto3->transformers==2.2.2) (0.15.2)\n"
     ]
    },
    {
     "name": "stdout",
     "output_type": "stream",
     "text": [
      "Requirement already satisfied: neuralcoref in c:\\users\\marti\\anaconda3\\lib\\site-packages (4.0)\n",
      "Requirement already satisfied: numpy>=1.15.0 in c:\\users\\marti\\anaconda3\\lib\\site-packages (from neuralcoref) (1.18.1)\n",
      "Requirement already satisfied: spacy>=2.1.0 in c:\\users\\marti\\anaconda3\\lib\\site-packages (from neuralcoref) (2.1.3)\n",
      "Requirement already satisfied: boto3 in c:\\users\\marti\\anaconda3\\lib\\site-packages (from neuralcoref) (1.14.47)\n",
      "Requirement already satisfied: requests<3.0.0,>=2.13.0 in c:\\users\\marti\\anaconda3\\lib\\site-packages (from neuralcoref) (2.22.0)\n",
      "Requirement already satisfied: thinc<7.1.0,>=7.0.2 in c:\\users\\marti\\anaconda3\\lib\\site-packages (from spacy>=2.1.0->neuralcoref) (7.0.8)\n",
      "Requirement already satisfied: wasabi<1.1.0,>=0.2.0 in c:\\users\\marti\\anaconda3\\lib\\site-packages (from spacy>=2.1.0->neuralcoref) (0.6.0)\n",
      "Requirement already satisfied: srsly<1.1.0,>=0.0.5 in c:\\users\\marti\\anaconda3\\lib\\site-packages (from spacy>=2.1.0->neuralcoref) (1.0.1)\n",
      "Requirement already satisfied: jsonschema<3.0.0,>=2.6.0 in c:\\users\\marti\\anaconda3\\lib\\site-packages (from spacy>=2.1.0->neuralcoref) (2.6.0)\n",
      "Requirement already satisfied: murmurhash<1.1.0,>=0.28.0 in c:\\users\\marti\\anaconda3\\lib\\site-packages (from spacy>=2.1.0->neuralcoref) (1.0.2)\n",
      "Requirement already satisfied: preshed<2.1.0,>=2.0.1 in c:\\users\\marti\\anaconda3\\lib\\site-packages (from spacy>=2.1.0->neuralcoref) (2.0.1)\n",
      "Requirement already satisfied: cymem<2.1.0,>=2.0.2 in c:\\users\\marti\\anaconda3\\lib\\site-packages (from spacy>=2.1.0->neuralcoref) (2.0.3)\n",
      "Requirement already satisfied: blis<0.3.0,>=0.2.2 in c:\\users\\marti\\anaconda3\\lib\\site-packages (from spacy>=2.1.0->neuralcoref) (0.2.4)\n",
      "Requirement already satisfied: plac<1.0.0,>=0.9.6 in c:\\users\\marti\\anaconda3\\lib\\site-packages (from spacy>=2.1.0->neuralcoref) (0.9.6)\n",
      "Requirement already satisfied: jmespath<1.0.0,>=0.7.1 in c:\\users\\marti\\anaconda3\\lib\\site-packages (from boto3->neuralcoref) (0.10.0)\n",
      "Requirement already satisfied: botocore<1.18.0,>=1.17.47 in c:\\users\\marti\\anaconda3\\lib\\site-packages (from boto3->neuralcoref) (1.17.47)\n",
      "Requirement already satisfied: s3transfer<0.4.0,>=0.3.0 in c:\\users\\marti\\anaconda3\\lib\\site-packages (from boto3->neuralcoref) (0.3.3)\n",
      "Requirement already satisfied: certifi>=2017.4.17 in c:\\users\\marti\\anaconda3\\lib\\site-packages (from requests<3.0.0,>=2.13.0->neuralcoref) (2020.4.5.1)\n",
      "Requirement already satisfied: idna<2.9,>=2.5 in c:\\users\\marti\\anaconda3\\lib\\site-packages (from requests<3.0.0,>=2.13.0->neuralcoref) (2.8)\n",
      "Requirement already satisfied: chardet<3.1.0,>=3.0.2 in c:\\users\\marti\\anaconda3\\lib\\site-packages (from requests<3.0.0,>=2.13.0->neuralcoref) (3.0.4)\n",
      "Requirement already satisfied: urllib3!=1.25.0,!=1.25.1,<1.26,>=1.21.1 in c:\\users\\marti\\anaconda3\\lib\\site-packages (from requests<3.0.0,>=2.13.0->neuralcoref) (1.25.8)\n",
      "Requirement already satisfied: tqdm<5.0.0,>=4.10.0 in c:\\users\\marti\\anaconda3\\lib\\site-packages (from thinc<7.1.0,>=7.0.2->spacy>=2.1.0->neuralcoref) (4.42.1)\n",
      "Requirement already satisfied: docutils<0.16,>=0.10 in c:\\users\\marti\\anaconda3\\lib\\site-packages (from botocore<1.18.0,>=1.17.47->boto3->neuralcoref) (0.15.2)\n",
      "Requirement already satisfied: python-dateutil<3.0.0,>=2.1 in c:\\users\\marti\\anaconda3\\lib\\site-packages (from botocore<1.18.0,>=1.17.47->boto3->neuralcoref) (2.8.1)\n",
      "Requirement already satisfied: six>=1.5 in c:\\users\\marti\\anaconda3\\lib\\site-packages (from python-dateutil<3.0.0,>=2.1->botocore<1.18.0,>=1.17.47->boto3->neuralcoref) (1.14.0)\n",
      "Requirement already satisfied: rouge in c:\\users\\marti\\anaconda3\\lib\\site-packages (1.0.0)\n",
      "Requirement already satisfied: six in c:\\users\\marti\\anaconda3\\lib\\site-packages (from rouge) (1.14.0)\n",
      "Requirement already satisfied: sumy in c:\\users\\marti\\anaconda3\\lib\\site-packages (0.8.1)\n",
      "Requirement already satisfied: requests>=2.7.0 in c:\\users\\marti\\anaconda3\\lib\\site-packages (from sumy) (2.22.0)\n",
      "Requirement already satisfied: breadability>=0.1.20 in c:\\users\\marti\\anaconda3\\lib\\site-packages (from sumy) (0.1.20)\n",
      "Requirement already satisfied: nltk>=3.0.2 in c:\\users\\marti\\anaconda3\\lib\\site-packages (from sumy) (3.4.5)\n",
      "Requirement already satisfied: docopt<0.7,>=0.6.1 in c:\\users\\marti\\anaconda3\\lib\\site-packages (from sumy) (0.6.2)\n",
      "Requirement already satisfied: pycountry>=18.2.23 in c:\\users\\marti\\anaconda3\\lib\\site-packages (from sumy) (20.7.3)\n",
      "Requirement already satisfied: chardet<3.1.0,>=3.0.2 in c:\\users\\marti\\anaconda3\\lib\\site-packages (from requests>=2.7.0->sumy) (3.0.4)\n",
      "Requirement already satisfied: certifi>=2017.4.17 in c:\\users\\marti\\anaconda3\\lib\\site-packages (from requests>=2.7.0->sumy) (2020.4.5.1)\n",
      "Requirement already satisfied: idna<2.9,>=2.5 in c:\\users\\marti\\anaconda3\\lib\\site-packages (from requests>=2.7.0->sumy) (2.8)\n",
      "Requirement already satisfied: urllib3!=1.25.0,!=1.25.1,<1.26,>=1.21.1 in c:\\users\\marti\\anaconda3\\lib\\site-packages (from requests>=2.7.0->sumy) (1.25.8)\n",
      "Requirement already satisfied: lxml>=2.0 in c:\\users\\marti\\anaconda3\\lib\\site-packages (from breadability>=0.1.20->sumy) (4.5.0)\n",
      "Requirement already satisfied: six in c:\\users\\marti\\anaconda3\\lib\\site-packages (from nltk>=3.0.2->sumy) (1.14.0)\n",
      "Requirement already satisfied: newspaper3k in c:\\users\\marti\\anaconda3\\lib\\site-packages (0.2.8)\n",
      "Requirement already satisfied: lxml>=3.6.0 in c:\\users\\marti\\anaconda3\\lib\\site-packages (from newspaper3k) (4.5.0)\n",
      "Requirement already satisfied: python-dateutil>=2.5.3 in c:\\users\\marti\\anaconda3\\lib\\site-packages (from newspaper3k) (2.8.1)\n",
      "Requirement already satisfied: jieba3k>=0.35.1 in c:\\users\\marti\\anaconda3\\lib\\site-packages (from newspaper3k) (0.35.1)\n",
      "Requirement already satisfied: tinysegmenter==0.3 in c:\\users\\marti\\anaconda3\\lib\\site-packages (from newspaper3k) (0.3)\n",
      "Requirement already satisfied: requests>=2.10.0 in c:\\users\\marti\\anaconda3\\lib\\site-packages (from newspaper3k) (2.22.0)\n",
      "Requirement already satisfied: beautifulsoup4>=4.4.1 in c:\\users\\marti\\anaconda3\\lib\\site-packages (from newspaper3k) (4.8.2)\n",
      "Requirement already satisfied: nltk>=3.2.1 in c:\\users\\marti\\anaconda3\\lib\\site-packages (from newspaper3k) (3.4.5)\n",
      "Requirement already satisfied: Pillow>=3.3.0 in c:\\users\\marti\\anaconda3\\lib\\site-packages (from newspaper3k) (7.0.0)\n",
      "Requirement already satisfied: feedfinder2>=0.0.4 in c:\\users\\marti\\anaconda3\\lib\\site-packages (from newspaper3k) (0.0.4)\n",
      "Requirement already satisfied: feedparser>=5.2.1 in c:\\users\\marti\\anaconda3\\lib\\site-packages (from newspaper3k) (5.2.1)\n",
      "Requirement already satisfied: tldextract>=2.0.1 in c:\\users\\marti\\anaconda3\\lib\\site-packages (from newspaper3k) (2.2.3)\n",
      "Requirement already satisfied: PyYAML>=3.11 in c:\\users\\marti\\anaconda3\\lib\\site-packages (from newspaper3k) (5.3)\n",
      "Requirement already satisfied: cssselect>=0.9.2 in c:\\users\\marti\\anaconda3\\lib\\site-packages (from newspaper3k) (1.1.0)\n",
      "Requirement already satisfied: six>=1.5 in c:\\users\\marti\\anaconda3\\lib\\site-packages (from python-dateutil>=2.5.3->newspaper3k) (1.14.0)\n",
      "Requirement already satisfied: certifi>=2017.4.17 in c:\\users\\marti\\anaconda3\\lib\\site-packages (from requests>=2.10.0->newspaper3k) (2020.4.5.1)\n",
      "Requirement already satisfied: idna<2.9,>=2.5 in c:\\users\\marti\\anaconda3\\lib\\site-packages (from requests>=2.10.0->newspaper3k) (2.8)\n",
      "Requirement already satisfied: chardet<3.1.0,>=3.0.2 in c:\\users\\marti\\anaconda3\\lib\\site-packages (from requests>=2.10.0->newspaper3k) (3.0.4)\n",
      "Requirement already satisfied: urllib3!=1.25.0,!=1.25.1,<1.26,>=1.21.1 in c:\\users\\marti\\anaconda3\\lib\\site-packages (from requests>=2.10.0->newspaper3k) (1.25.8)\n",
      "Requirement already satisfied: soupsieve>=1.2 in c:\\users\\marti\\anaconda3\\lib\\site-packages (from beautifulsoup4>=4.4.1->newspaper3k) (1.9.5)\n",
      "Requirement already satisfied: requests-file>=1.4 in c:\\users\\marti\\anaconda3\\lib\\site-packages (from tldextract>=2.0.1->newspaper3k) (1.5.1)\n"
     ]
    }
   ],
   "source": [
    "! pip install bert-extractive-summarizer\n",
    "! pip install spacy==2.1.3\n",
    "! pip install transformers==2.2.2\n",
    "! pip install neuralcoref\n",
    "! pip install rouge\n",
    "! pip install sumy\n",
    "! pip install newspaper3k"
   ]
  },
  {
   "cell_type": "markdown",
   "metadata": {},
   "source": [
    "Averaging algorithm on first 100 BBC business news articles dataset using different extractive summarizer"
   ]
  },
  {
   "cell_type": "code",
   "execution_count": 230,
   "metadata": {
    "ExecuteTime": {
     "end_time": "2020-08-22T17:53:17.785305Z",
     "start_time": "2020-08-22T17:53:17.675139Z"
    }
   },
   "outputs": [],
   "source": [
    "import os,glob\n",
    "from statistics import mean \n",
    "#from summarizer import Summarizer\n",
    "from rouge import Rouge \n",
    "from sumy.parsers.plaintext import PlaintextParser\n",
    "from sumy.nlp.tokenizers import Tokenizer\n",
    "from sumy.summarizers.lsa import LsaSummarizer\n",
    "from sumy.summarizers.luhn import LuhnSummarizer\n",
    "from sumy.summarizers.lex_rank import LexRankSummarizer \n",
    "from sumy.nlp.stemmers import Stemmer\n",
    "from sumy.utils import get_stop_words\n",
    "\n",
    "\n",
    "directory = 'BBC News Summary/News Articles/business'\n",
    "directory_gs = 'BBC News Summary/Summaries/business'\n",
    "\n",
    "rouge = Rouge()\n",
    "language = \"english\"\n",
    "news_list = []\n",
    "gs_list = []\n",
    "\n",
    "for filename in glob.glob(os.path.join(directory, '*.txt')):\n",
    "    with open(filename, 'r') as f:\n",
    "        text = f.read()\n",
    "        news_list.append(text)\n",
    "        \n",
    "for filename in glob.glob(os.path.join(directory_gs, '*.txt')):\n",
    "    with open(filename, 'r') as f:\n",
    "        text = f.read()\n",
    "        gs_list.append(text)"
   ]
  },
  {
   "cell_type": "code",
   "execution_count": 231,
   "metadata": {
    "ExecuteTime": {
     "end_time": "2020-08-22T17:55:27.936715Z",
     "start_time": "2020-08-22T17:55:27.919708Z"
    }
   },
   "outputs": [],
   "source": [
    "def avg_rouge(model, sentence_cnt):\n",
    "    r1_f = r1_p = r1_r = r2_f = r2_p = r2_r = rl_f = rl_p = rl_r = []\n",
    "    summary = \"\"\n",
    "    stemmer = Stemmer(language) \n",
    "    if model == 'lsa':\n",
    "        #sumy_model = LsaSummarizer()\n",
    "        sumy_model = LsaSummarizer(stemmer)\n",
    "    elif model == 'luhn':\n",
    "        #sumy_model = LuhnSummarizer()\n",
    "        sumy_model = LuhnSummarizer(language)\n",
    "    elif model == 'lex':\n",
    "        #sumy_model = LexRankSummarizer()\n",
    "        sumy_model = LexRankSummarizer(language)\n",
    "    elif model == 'bert':\n",
    "        model_bert = Summarizer()\n",
    "        \n",
    "    for news, gs in zip(news_list, gs_list):\n",
    "        if model == 'lsa' or 'luhn' or 'lex':\n",
    "            parser = PlaintextParser(news, Tokenizer(language))\n",
    "                   \n",
    "            #sumy_model.stop_words = get_stop_words(language)\n",
    "            result = sumy_model(parser.document, sentence_cnt)\n",
    "            for i in result:\n",
    "                summary = summary + str(i) + \" \" \n",
    "        elif model == 'bert':\n",
    "            result = model_bert(news, num_sentences = sentence_cnt)\n",
    "            summary = \"\".join(result)   \n",
    "\n",
    "        scores = rouge.get_scores(summary, gs)\n",
    "        r1_f.append(scores[0]['rouge-1']['f'])\n",
    "        r1_p.append(scores[0]['rouge-1']['p'])\n",
    "        r1_r.append(scores[0]['rouge-1']['r'])\n",
    "        r2_f.append(scores[0]['rouge-2']['f'])\n",
    "        r2_p.append(scores[0]['rouge-2']['p'])\n",
    "        r2_r.append(scores[0]['rouge-2']['r'])\n",
    "        rl_f.append(scores[0]['rouge-l']['f'])\n",
    "        rl_p.append(scores[0]['rouge-l']['p'])\n",
    "        rl_r.append(scores[0]['rouge-l']['r'])\n",
    "\n",
    "    print(model + \": \" + \"Average of Rouge-1 F1 =\", round(mean(r1_f), 3))  \n",
    "    print(model + \": \" + \"Average of Rouge-1 p =\", round(mean(r1_p), 3))  \n",
    "    print(model + \": \" + \"Average of Rouge-1 r =\", round(mean(r1_r), 3))  \n",
    "    print(model + \": \" + \"Average of Rouge-2 F1 =\", round(mean(r2_f), 3))  \n",
    "    print(model + \": \" + \"Average of Rouge-2 p =\", round(mean(r2_p), 3))  \n",
    "    print(model + \": \" + \"Average of Rouge-2 r =\", round(mean(r2_r), 3))  \n",
    "    print(model + \": \" + \"Average of Rouge-l F1 =\", round(mean(rl_f), 3))  \n",
    "    print(model + \": \" + \"Average of Rouge-l p =\", round(mean(rl_p), 3))  \n",
    "    print(model + \": \" + \"Average of Rouge-l r =\", round(mean(rl_r), 3))  "
   ]
  },
  {
   "cell_type": "code",
   "execution_count": 232,
   "metadata": {
    "ExecuteTime": {
     "end_time": "2020-08-22T17:58:07.714816Z",
     "start_time": "2020-08-22T17:55:32.291127Z"
    }
   },
   "outputs": [
    {
     "name": "stdout",
     "output_type": "stream",
     "text": [
      "lsa: Average of Rouge-1 F1 = 0.271\n",
      "lsa: Average of Rouge-1 p = 0.271\n",
      "lsa: Average of Rouge-1 r = 0.271\n",
      "lsa: Average of Rouge-2 F1 = 0.271\n",
      "lsa: Average of Rouge-2 p = 0.271\n",
      "lsa: Average of Rouge-2 r = 0.271\n",
      "lsa: Average of Rouge-l F1 = 0.271\n",
      "lsa: Average of Rouge-l p = 0.271\n",
      "lsa: Average of Rouge-l r = 0.271\n"
     ]
    }
   ],
   "source": [
    "avg_rouge('lsa', 6)"
   ]
  },
  {
   "cell_type": "code",
   "execution_count": 227,
   "metadata": {
    "ExecuteTime": {
     "end_time": "2020-08-22T17:38:17.734508Z",
     "start_time": "2020-08-22T17:35:16.500168Z"
    }
   },
   "outputs": [
    {
     "name": "stdout",
     "output_type": "stream",
     "text": [
      "luhn: Average of Rouge-1 F1 = 0.061\n",
      "luhn: Average of Rouge-1 p = 0.036\n",
      "luhn: Average of Rouge-1 r = 0.906\n",
      "luhn: Average of Rouge-2 F1 = 0.048\n",
      "luhn: Average of Rouge-2 p = 0.027\n",
      "luhn: Average of Rouge-2 r = 0.739\n",
      "luhn: Average of Rouge-l F1 = 0.093\n",
      "luhn: Average of Rouge-l p = 0.054\n",
      "luhn: Average of Rouge-l r = 0.884\n"
     ]
    }
   ],
   "source": [
    "avg_rouge('luhn', 6)"
   ]
  },
  {
   "cell_type": "code",
   "execution_count": 214,
   "metadata": {
    "ExecuteTime": {
     "end_time": "2020-08-22T08:43:30.417842Z",
     "start_time": "2020-08-22T08:42:27.176232Z"
    }
   },
   "outputs": [
    {
     "name": "stdout",
     "output_type": "stream",
     "text": [
      "lex: Average of Rouge-1 F1 = 0.067\n",
      "lex: Average of Rouge-1 p = 0.041\n",
      "lex: Average of Rouge-1 r = 0.865\n",
      "lex: Average of Rouge-2 F1 = 0.048\n",
      "lex: Average of Rouge-2 p = 0.029\n",
      "lex: Average of Rouge-2 r = 0.623\n",
      "lex: Average of Rouge-l F1 = 0.094\n",
      "lex: Average of Rouge-l p = 0.056\n",
      "lex: Average of Rouge-l r = 0.834\n"
     ]
    }
   ],
   "source": [
    "avg_rouge('lex', 6)"
   ]
  },
  {
   "cell_type": "code",
   "execution_count": 142,
   "metadata": {
    "ExecuteTime": {
     "end_time": "2020-08-21T16:46:12.612952Z",
     "start_time": "2020-08-21T16:46:03.500033Z"
    }
   },
   "outputs": [
    {
     "name": "stdout",
     "output_type": "stream",
     "text": [
      "Requirement already satisfied: spacy==2.2.2 in c:\\users\\marti\\anaconda3\\lib\\site-packages (2.2.2)\n",
      "Requirement already satisfied: numpy>=1.15.0 in c:\\users\\marti\\anaconda3\\lib\\site-packages (from spacy==2.2.2) (1.18.1)\n",
      "Requirement already satisfied: importlib-metadata>=0.20; python_version < \"3.8\" in c:\\users\\marti\\anaconda3\\lib\\site-packages (from spacy==2.2.2) (1.5.0)\n",
      "Requirement already satisfied: cymem<2.1.0,>=2.0.2 in c:\\users\\marti\\anaconda3\\lib\\site-packages (from spacy==2.2.2) (2.0.3)\n",
      "Requirement already satisfied: blis<0.5.0,>=0.4.0 in c:\\users\\marti\\anaconda3\\lib\\site-packages (from spacy==2.2.2) (0.4.1)\n",
      "Requirement already satisfied: thinc<7.4.0,>=7.3.0 in c:\\users\\marti\\anaconda3\\lib\\site-packages (from spacy==2.2.2) (7.3.1)\n",
      "Requirement already satisfied: plac<1.2.0,>=0.9.6 in c:\\users\\marti\\anaconda3\\lib\\site-packages (from spacy==2.2.2) (0.9.6)\n",
      "Requirement already satisfied: murmurhash<1.1.0,>=0.28.0 in c:\\users\\marti\\anaconda3\\lib\\site-packages (from spacy==2.2.2) (1.0.2)\n",
      "Requirement already satisfied: srsly<1.1.0,>=0.1.0 in c:\\users\\marti\\anaconda3\\lib\\site-packages (from spacy==2.2.2) (1.0.2)\n",
      "Requirement already satisfied: preshed<3.1.0,>=3.0.2 in c:\\users\\marti\\anaconda3\\lib\\site-packages (from spacy==2.2.2) (3.0.2)\n",
      "Requirement already satisfied: wasabi<1.1.0,>=0.3.0 in c:\\users\\marti\\anaconda3\\lib\\site-packages (from spacy==2.2.2) (0.6.0)\n",
      "Requirement already satisfied: requests<3.0.0,>=2.13.0 in c:\\users\\marti\\anaconda3\\lib\\site-packages (from spacy==2.2.2) (2.22.0)\n",
      "Requirement already satisfied: setuptools in c:\\users\\marti\\anaconda3\\lib\\site-packages (from spacy==2.2.2) (45.2.0.post20200210)\n",
      "Requirement already satisfied: zipp>=0.5 in c:\\users\\marti\\anaconda3\\lib\\site-packages (from importlib-metadata>=0.20; python_version < \"3.8\"->spacy==2.2.2) (2.2.0)\n",
      "Requirement already satisfied: tqdm<5.0.0,>=4.10.0 in c:\\users\\marti\\anaconda3\\lib\\site-packages (from thinc<7.4.0,>=7.3.0->spacy==2.2.2) (4.42.1)\n",
      "Requirement already satisfied: chardet<3.1.0,>=3.0.2 in c:\\users\\marti\\anaconda3\\lib\\site-packages (from requests<3.0.0,>=2.13.0->spacy==2.2.2) (3.0.4)\n",
      "Requirement already satisfied: urllib3!=1.25.0,!=1.25.1,<1.26,>=1.21.1 in c:\\users\\marti\\anaconda3\\lib\\site-packages (from requests<3.0.0,>=2.13.0->spacy==2.2.2) (1.25.8)\n",
      "Requirement already satisfied: idna<2.9,>=2.5 in c:\\users\\marti\\anaconda3\\lib\\site-packages (from requests<3.0.0,>=2.13.0->spacy==2.2.2) (2.8)\n",
      "Requirement already satisfied: certifi>=2017.4.17 in c:\\users\\marti\\anaconda3\\lib\\site-packages (from requests<3.0.0,>=2.13.0->spacy==2.2.2) (2020.4.5.1)\n",
      "Requirement already satisfied: transformers==2.11.0 in c:\\users\\marti\\anaconda3\\lib\\site-packages (2.11.0)\n",
      "Requirement already satisfied: packaging in c:\\users\\marti\\anaconda3\\lib\\site-packages (from transformers==2.11.0) (20.1)\n",
      "Requirement already satisfied: tokenizers==0.7.0 in c:\\users\\marti\\anaconda3\\lib\\site-packages (from transformers==2.11.0) (0.7.0)\n",
      "Requirement already satisfied: numpy in c:\\users\\marti\\anaconda3\\lib\\site-packages (from transformers==2.11.0) (1.18.1)\n",
      "Requirement already satisfied: requests in c:\\users\\marti\\anaconda3\\lib\\site-packages (from transformers==2.11.0) (2.22.0)\n",
      "Requirement already satisfied: filelock in c:\\users\\marti\\anaconda3\\lib\\site-packages (from transformers==2.11.0) (3.0.12)\n",
      "Requirement already satisfied: sacremoses in c:\\users\\marti\\anaconda3\\lib\\site-packages (from transformers==2.11.0) (0.0.43)\n",
      "Requirement already satisfied: tqdm>=4.27 in c:\\users\\marti\\anaconda3\\lib\\site-packages (from transformers==2.11.0) (4.42.1)\n",
      "Requirement already satisfied: sentencepiece in c:\\users\\marti\\anaconda3\\lib\\site-packages (from transformers==2.11.0) (0.1.91)\n",
      "Requirement already satisfied: dataclasses; python_version < \"3.7\" in c:\\users\\marti\\anaconda3\\lib\\site-packages (from transformers==2.11.0) (0.7)\n",
      "Requirement already satisfied: regex!=2019.12.17 in c:\\users\\marti\\anaconda3\\lib\\site-packages (from transformers==2.11.0) (2020.7.14)\n",
      "Requirement already satisfied: pyparsing>=2.0.2 in c:\\users\\marti\\anaconda3\\lib\\site-packages (from packaging->transformers==2.11.0) (2.4.6)\n",
      "Requirement already satisfied: six in c:\\users\\marti\\anaconda3\\lib\\site-packages (from packaging->transformers==2.11.0) (1.14.0)\n",
      "Requirement already satisfied: urllib3!=1.25.0,!=1.25.1,<1.26,>=1.21.1 in c:\\users\\marti\\anaconda3\\lib\\site-packages (from requests->transformers==2.11.0) (1.25.8)\n",
      "Requirement already satisfied: idna<2.9,>=2.5 in c:\\users\\marti\\anaconda3\\lib\\site-packages (from requests->transformers==2.11.0) (2.8)\n",
      "Requirement already satisfied: chardet<3.1.0,>=3.0.2 in c:\\users\\marti\\anaconda3\\lib\\site-packages (from requests->transformers==2.11.0) (3.0.4)\n",
      "Requirement already satisfied: certifi>=2017.4.17 in c:\\users\\marti\\anaconda3\\lib\\site-packages (from requests->transformers==2.11.0) (2020.4.5.1)\n",
      "Requirement already satisfied: joblib in c:\\users\\marti\\anaconda3\\lib\\site-packages (from sacremoses->transformers==2.11.0) (0.14.1)\n",
      "Requirement already satisfied: click in c:\\users\\marti\\anaconda3\\lib\\site-packages (from sacremoses->transformers==2.11.0) (7.0)\n",
      "Collecting spacy-transformers[cuda100]==0.5.1\n",
      "  Downloading spacy-transformers-0.5.1.tar.gz (59 kB)\n",
      "Requirement already satisfied: spacy<2.3.0,>=2.2.1 in c:\\users\\marti\\anaconda3\\lib\\site-packages (from spacy-transformers[cuda100]==0.5.1) (2.2.2)\n",
      "Collecting transformers<2.1.0,>=2.0.0\n",
      "  Downloading transformers-2.0.0-py3-none-any.whl (290 kB)\n"
     ]
    },
    {
     "name": "stderr",
     "output_type": "stream",
     "text": [
      "ERROR: Could not find a version that satisfies the requirement torch>=1.0.0 (from spacy-transformers[cuda100]==0.5.1) (from versions: 0.1.2, 0.1.2.post1, 0.1.2.post2)\n",
      "ERROR: No matching distribution found for torch>=1.0.0 (from spacy-transformers[cuda100]==0.5.1)\n"
     ]
    }
   ],
   "source": [
    "! pip install spacy==2.2.2\n",
    "! pip install transformers==2.11.0\n",
    "! pip install spacy-transformers[cuda100]==0.5.1\n",
    "#! pip install spacy==2.1.3\n",
    "#! pip install transformers==2.2.2"
   ]
  },
  {
   "cell_type": "code",
   "execution_count": 148,
   "metadata": {
    "ExecuteTime": {
     "end_time": "2020-08-22T05:45:12.714292Z",
     "start_time": "2020-08-22T05:45:12.330851Z"
    },
    "colab": {
     "base_uri": "https://localhost:8080/",
     "height": 168,
     "referenced_widgets": [
      "1c99a6eebb1a49a78251b34ba765a007",
      "ab7f66be5c194594a16e736691fb5216",
      "d1398b430783406e950869fc15204a7d",
      "a3f6630af33b4198ae5d34e59b677804",
      "6e6b3a6c1aa24e468a0518567520fb9a",
      "71cf774e675c417fba016f04f2e81b27",
      "52664d40719741e087651d0b1b1b9a75",
      "0fc1e186a2a742d8aa05f3fd8b415d62",
      "aac7ecbcb75e45f9af511f3e0c3b6346",
      "0afedae2d9554d6daa8cb0aea50fee88",
      "282e84fc347e4ff3834486d9cc33cddb",
      "3e55da1538f84739a11ea512544dbc25",
      "ae4c4dc1728e44379fc9a6bac25cb6c1",
      "f8a711e32763495fa5da4803153f9612",
      "6a7ecd4666654c689bd1639c74094f91",
      "971466fa948c4930bad03c39c1b12f4e",
      "b5d81e669cf64c13b9a731a99a70fac5",
      "ca9f7b0dc4934365a42b8d6ab34d5c04",
      "17d4d52df9864ce48937aa6273c085a6",
      "62fc91b285cc4f34b27b5c3785918f2d",
      "893a49dfa86941119d6775f0ebb60e3d",
      "f91f1dfb0c5949fe9a9121c76c98492f",
      "952c355bec9544a7b9cb5cadedbab7d2",
      "9f0aebd6d3a942dd9a1e5bdbc6f5faa5"
     ]
    },
    "colab_type": "code",
    "id": "udU0BJkImbZG",
    "outputId": "788dd146-16b9-4c7d-f96c-2cdbd8884a08"
   },
   "outputs": [
    {
     "ename": "NameError",
     "evalue": "name 'BertModel' is not defined",
     "output_type": "error",
     "traceback": [
      "\u001b[1;31m---------------------------------------------------------------------------\u001b[0m",
      "\u001b[1;31mNameError\u001b[0m                                 Traceback (most recent call last)",
      "\u001b[1;32m<ipython-input-148-5ce5c0ac76e9>\u001b[0m in \u001b[0;36m<module>\u001b[1;34m\u001b[0m\n\u001b[1;32m----> 1\u001b[1;33m \u001b[1;32mfrom\u001b[0m \u001b[0msummarizer\u001b[0m \u001b[1;32mimport\u001b[0m \u001b[0mSummarizer\u001b[0m\u001b[1;33m\u001b[0m\u001b[1;33m\u001b[0m\u001b[0m\n\u001b[0m\u001b[0;32m      2\u001b[0m \u001b[1;33m\u001b[0m\u001b[0m\n\u001b[0;32m      3\u001b[0m \u001b[0mmodel_bert\u001b[0m \u001b[1;33m=\u001b[0m \u001b[0mSummarizer\u001b[0m\u001b[1;33m(\u001b[0m\u001b[1;33m)\u001b[0m\u001b[1;33m\u001b[0m\u001b[1;33m\u001b[0m\u001b[0m\n",
      "\u001b[1;32m~\\Anaconda3\\lib\\site-packages\\summarizer\\__init__.py\u001b[0m in \u001b[0;36m<module>\u001b[1;34m\u001b[0m\n\u001b[1;32m----> 1\u001b[1;33m \u001b[1;32mfrom\u001b[0m \u001b[0msummarizer\u001b[0m\u001b[1;33m.\u001b[0m\u001b[0mmodel_processors\u001b[0m \u001b[1;32mimport\u001b[0m \u001b[0mSummarizer\u001b[0m\u001b[1;33m,\u001b[0m \u001b[0mTransformerSummarizer\u001b[0m\u001b[1;33m\u001b[0m\u001b[1;33m\u001b[0m\u001b[0m\n\u001b[0m",
      "\u001b[1;32m~\\Anaconda3\\lib\\site-packages\\summarizer\\model_processors.py\u001b[0m in \u001b[0;36m<module>\u001b[1;34m\u001b[0m\n\u001b[0;32m      4\u001b[0m \u001b[1;32mfrom\u001b[0m \u001b[0mtransformers\u001b[0m \u001b[1;32mimport\u001b[0m \u001b[1;33m*\u001b[0m\u001b[1;33m\u001b[0m\u001b[1;33m\u001b[0m\u001b[0m\n\u001b[0;32m      5\u001b[0m \u001b[1;33m\u001b[0m\u001b[0m\n\u001b[1;32m----> 6\u001b[1;33m \u001b[1;32mfrom\u001b[0m \u001b[0msummarizer\u001b[0m\u001b[1;33m.\u001b[0m\u001b[0mbert_parent\u001b[0m \u001b[1;32mimport\u001b[0m \u001b[0mBertParent\u001b[0m\u001b[1;33m\u001b[0m\u001b[1;33m\u001b[0m\u001b[0m\n\u001b[0m\u001b[0;32m      7\u001b[0m \u001b[1;32mfrom\u001b[0m \u001b[0msummarizer\u001b[0m\u001b[1;33m.\u001b[0m\u001b[0mcluster_features\u001b[0m \u001b[1;32mimport\u001b[0m \u001b[0mClusterFeatures\u001b[0m\u001b[1;33m\u001b[0m\u001b[1;33m\u001b[0m\u001b[0m\n\u001b[0;32m      8\u001b[0m \u001b[1;32mfrom\u001b[0m \u001b[0msummarizer\u001b[0m\u001b[1;33m.\u001b[0m\u001b[0msentence_handler\u001b[0m \u001b[1;32mimport\u001b[0m \u001b[0mSentenceHandler\u001b[0m\u001b[1;33m\u001b[0m\u001b[1;33m\u001b[0m\u001b[0m\n",
      "\u001b[1;32m~\\Anaconda3\\lib\\site-packages\\summarizer\\bert_parent.py\u001b[0m in \u001b[0;36m<module>\u001b[1;34m\u001b[0m\n\u001b[0;32m     10\u001b[0m \u001b[1;33m\u001b[0m\u001b[0m\n\u001b[0;32m     11\u001b[0m \u001b[1;33m\u001b[0m\u001b[0m\n\u001b[1;32m---> 12\u001b[1;33m \u001b[1;32mclass\u001b[0m \u001b[0mBertParent\u001b[0m\u001b[1;33m(\u001b[0m\u001b[0mobject\u001b[0m\u001b[1;33m)\u001b[0m\u001b[1;33m:\u001b[0m\u001b[1;33m\u001b[0m\u001b[1;33m\u001b[0m\u001b[0m\n\u001b[0m\u001b[0;32m     13\u001b[0m \u001b[1;33m\u001b[0m\u001b[0m\n\u001b[0;32m     14\u001b[0m     \"\"\"\n",
      "\u001b[1;32m~\\Anaconda3\\lib\\site-packages\\summarizer\\bert_parent.py\u001b[0m in \u001b[0;36mBertParent\u001b[1;34m()\u001b[0m\n\u001b[0;32m     17\u001b[0m \u001b[1;33m\u001b[0m\u001b[0m\n\u001b[0;32m     18\u001b[0m     MODELS = {\n\u001b[1;32m---> 19\u001b[1;33m         \u001b[1;34m'bert-base-uncased'\u001b[0m\u001b[1;33m:\u001b[0m \u001b[1;33m(\u001b[0m\u001b[0mBertModel\u001b[0m\u001b[1;33m,\u001b[0m \u001b[0mBertTokenizer\u001b[0m\u001b[1;33m)\u001b[0m\u001b[1;33m,\u001b[0m\u001b[1;33m\u001b[0m\u001b[1;33m\u001b[0m\u001b[0m\n\u001b[0m\u001b[0;32m     20\u001b[0m         \u001b[1;34m'bert-large-uncased'\u001b[0m\u001b[1;33m:\u001b[0m \u001b[1;33m(\u001b[0m\u001b[0mBertModel\u001b[0m\u001b[1;33m,\u001b[0m \u001b[0mBertTokenizer\u001b[0m\u001b[1;33m)\u001b[0m\u001b[1;33m,\u001b[0m\u001b[1;33m\u001b[0m\u001b[1;33m\u001b[0m\u001b[0m\n\u001b[0;32m     21\u001b[0m         \u001b[1;34m'xlnet-base-cased'\u001b[0m\u001b[1;33m:\u001b[0m \u001b[1;33m(\u001b[0m\u001b[0mXLNetModel\u001b[0m\u001b[1;33m,\u001b[0m \u001b[0mXLNetTokenizer\u001b[0m\u001b[1;33m)\u001b[0m\u001b[1;33m,\u001b[0m\u001b[1;33m\u001b[0m\u001b[1;33m\u001b[0m\u001b[0m\n",
      "\u001b[1;31mNameError\u001b[0m: name 'BertModel' is not defined"
     ]
    }
   ],
   "source": [
    "from summarizer import Summarizer\n",
    "\n",
    "model_bert = Summarizer()"
   ]
  },
  {
   "cell_type": "code",
   "execution_count": 6,
   "metadata": {
    "colab": {
     "base_uri": "https://localhost:8080/",
     "height": 271
    },
    "colab_type": "code",
    "id": "DcomKkhiUggj",
    "outputId": "da660d80-cb27-45b5-acf3-4d6908232f6d"
   },
   "outputs": [
    {
     "name": "stdout",
     "output_type": "stream",
     "text": [
      "('Quarterly profits at US media giant TimeWarner jumped 76% to $1.13bn (£600m) '\n",
      " 'for the three months to December, from $639m year-earlier. TimeWarner said '\n",
      " 'fourth quarter sales rose 2% to $11.1bn from $10.9bn. But its own internet '\n",
      " 'business, AOL, had has mixed fortunes. It lost 464,000 subscribers in the '\n",
      " 'fourth quarter profits were lower than in the preceding three quarters. But '\n",
      " 'its film division saw profits slump 27% to $284m, helped by box-office flops '\n",
      " 'Alexander and Catwoman, a sharp contrast to year-earlier, when the third and '\n",
      " 'final film in the Lord of the Rings trilogy boosted results. Our financial '\n",
      " 'performance was strong, meeting or exceeding all of our full-year objectives '\n",
      " 'and greatly enhancing our flexibility,\" chairman and chief executive Richard '\n",
      " 'Parsons said. For 2005, TimeWarner is projecting operating earnings growth '\n",
      " 'of around 5%, and also expects higher revenue and wider profit margins. '\n",
      " 'TimeWarner is to restate its accounts as part of efforts to resolve an '\n",
      " 'inquiry into AOL by US market regulators.')\n"
     ]
    }
   ],
   "source": [
    "sentence_cnt = 8\n",
    "result = model_bert(text, num_sentences = sentence_cnt - 1)\n",
    "summary_bert = \"\".join(result)\n",
    "pprint(summary_bert)"
   ]
  },
  {
   "cell_type": "code",
   "execution_count": 112,
   "metadata": {
    "ExecuteTime": {
     "end_time": "2020-08-21T09:38:35.315401Z",
     "start_time": "2020-08-21T09:38:35.078070Z"
    },
    "colab": {},
    "colab_type": "code",
    "id": "tVZPaCxvgJlw"
   },
   "outputs": [],
   "source": [
    "import requests\n",
    "from newspaper import fulltext\n",
    "from sumy.parsers.html import HtmlParser\n",
    "from sumy.nlp.stemmers import Stemmer\n",
    "from sumy.utils import get_stop_words"
   ]
  },
  {
   "cell_type": "code",
   "execution_count": 16,
   "metadata": {
    "colab": {},
    "colab_type": "code",
    "id": "DoNW4Hi2HjgR"
   },
   "outputs": [],
   "source": [
    "def bert_summarize(url, num_sentences_out):\n",
    "\n",
    "    text = fulltext(requests.get(url).text)\n",
    "    model = Summarizer()\n",
    "    result = model(text, num_sentences = num_sentences_out)\n",
    "    summary = \"\".join(result)\n",
    "    return summary"
   ]
  },
  {
   "cell_type": "code",
   "execution_count": 17,
   "metadata": {
    "colab": {},
    "colab_type": "code",
    "id": "MnIOS4xp19td"
   },
   "outputs": [],
   "source": [
    "def lsa_summarize(url, num_sentences_out):\n",
    "    # for plain text files\n",
    "    # text = fulltext(requests.get(url).text)\n",
    "    summary_lsa = \"\"\n",
    "    language = \"english\"\n",
    "    parser = HtmlParser.from_url(url, Tokenizer(language))\n",
    "    # for plain text files\n",
    "    # parser = PlaintextParser(text, Tokenizer(\"english\"))\n",
    "    stemmer = Stemmer(language)\n",
    "\n",
    "    model_lsa = LsaSummarizer(stemmer)\n",
    "    #model_lsa.stop_words = get_stop_words(language)\n",
    "    result_lsa = model_lsa(parser.document, num_sentences_out)\n",
    "    \n",
    "    for i in result_lsa:\n",
    "        summary_lsa = summary_lsa + str(i) + \" \" \n",
    "    return summary_lsa"
   ]
  },
  {
   "cell_type": "code",
   "execution_count": 18,
   "metadata": {
    "colab": {},
    "colab_type": "code",
    "id": "zNme9WPx1_B2"
   },
   "outputs": [],
   "source": [
    "def luhn_summarize(url, num_sentences_out):\n",
    "    # for plain text files\n",
    "    #text = fulltext(requests.get(url).text)\n",
    "    summary_luhn = \"\"\n",
    "    language = \"english\"\n",
    "    parser = HtmlParser.from_url(url, Tokenizer(language))\n",
    "    # for plain text files\n",
    "    #parser = PlaintextParser(text, Tokenizer(\"english\"))\n",
    "    stemmer = Stemmer(language)\n",
    "\n",
    "    model_luhn = LuhnSummarizer(stemmer)\n",
    "    #model_luhn.stop_words = get_stop_words(language)\n",
    "    result_luhn = model_luhn(parser.document, num_sentences_out)\n",
    "    \n",
    "    for i in result_luhn:\n",
    "        summary_luhn = summary_luhn + str(i) + \" \"\n",
    "    return summary_luhn"
   ]
  },
  {
   "cell_type": "code",
   "execution_count": 110,
   "metadata": {
    "ExecuteTime": {
     "end_time": "2020-08-21T09:37:45.928509Z",
     "start_time": "2020-08-21T09:37:45.923514Z"
    },
    "colab": {},
    "colab_type": "code",
    "id": "kXQMmBVm2ABT"
   },
   "outputs": [],
   "source": [
    "def lex_summarize(url, num_sentences_out):\n",
    "\n",
    "    summary_lex = \"\"\n",
    "    language = \"english\"\n",
    "    parser = HtmlParser.from_url(url, Tokenizer(language))\n",
    "    # for plain text files\n",
    "    #parser = PlaintextParser(text, Tokenizer(\"english\"))\n",
    "    stemmer = Stemmer(language)\n",
    "    \n",
    "    model_lex = LexRankSummarizer(stemmer)\n",
    "    #model_lex.stop_words = get_stop_words(language)\n",
    "    result_lex = model_lex(parser.document, num_sentences_out)\n",
    "    \n",
    "    for i in result_lex:\n",
    "        summary_lex = summary_lex + str(i) + \" \"\n",
    "    return summary_lex"
   ]
  },
  {
   "cell_type": "code",
   "execution_count": 20,
   "metadata": {
    "colab": {
     "base_uri": "https://localhost:8080/",
     "height": 399
    },
    "colab_type": "code",
    "id": "aww8kTJLI8_x",
    "outputId": "75cc64ba-3e5a-44fc-90dc-3376c0896d65"
   },
   "outputs": [
    {
     "name": "stdout",
     "output_type": "stream",
     "text": [
      "('Auckland (CNN) New Zealand Prime Minister Jacinda Ardern says she is '\n",
      " \"delaying the country's parliamentary election by four weeks to October 17 \"\n",
      " 'after the reemergence of Covid-19 in the country last week. This comes after '\n",
      " \"around 100 days without community spread. Ardern said that New Zealand's \"\n",
      " 'Electoral Commission had assured her that a safe and accessible election '\n",
      " 'would be possible on the new date. \"Ultimately I want to ensure we have a '\n",
      " 'well-run election that gives all voters the best chance to receive all the '\n",
      " 'information about parties and candidates and delivers certainty for the '\n",
      " 'future,\" she said. \"In the end what matters most is what is in the best '\n",
      " 'interests of voters and our democracy,\" she said. \" Any decision to review '\n",
      " 'the election date must be as free from partisan political interests as '\n",
      " 'possible.\" \"Even if I had not picked up the phone and contacted anyone, I '\n",
      " 'believe this is the outcome I would have arrived at,\" she said. \" We have '\n",
      " 'been considering alternative election dates and are confident we can revise '\n",
      " 'our existing arrangements for 17 October.\" \"Holding an election during a '\n",
      " 'Covid outbreak has the risk of serious interference in our democracy. New '\n",
      " \"Zealand has already spent five weeks under one of the world's strictest \"\n",
      " 'lockdowns, which closed most businesses and schools from March 25, and saw '\n",
      " 'people stay at home. \"If we look at the number of new cases today -- given '\n",
      " 'the extent of testing that has happened over the last few days -- I think '\n",
      " 'that\\'s encouraging,\" Bloomfield said. \"')\n"
     ]
    }
   ],
   "source": [
    "bert_summary = bert_summarize('https://edition.cnn.com/2020/08/16/asia/new-zealand-ardern-election-delay-coronavirus/index.html', 10)\n",
    "pprint(bert_summary)"
   ]
  },
  {
   "cell_type": "code",
   "execution_count": 21,
   "metadata": {
    "colab": {
     "base_uri": "https://localhost:8080/",
     "height": 562
    },
    "colab_type": "code",
    "id": "Y5pxosO63HxV",
    "outputId": "e6c04152-73fc-48fc-993f-7d696c6182ef"
   },
   "outputs": [
    {
     "name": "stdout",
     "output_type": "stream",
     "text": [
      "('\"Ultimately I want to ensure we have a well-run election that gives all '\n",
      " 'voters the best chance to receive all the information about parties and '\n",
      " 'candidates and delivers certainty for the future,\" she said. \"Confirmation '\n",
      " 'of the date provides certainty to the public about when the election will be '\n",
      " 'held,\" Chief Electoral Officer Alicia Wright said in a statement. The '\n",
      " 'commission said that it had always prepared for the election to be run as if '\n",
      " 'under Alert Level 2 lockdown restrictions, with planned measures including '\n",
      " 'contact tracing, provision of hand sanitizer and physical distancing. In a '\n",
      " 'statement after Ardern\\'s announcement Tuesday she said: \"It was always '\n",
      " \"National's view that to have a fair, democratic election, we needed to deal \"\n",
      " 'with this second wave of Covid-19 so politicians from all parties had a '\n",
      " 'reasonable chance to present their policies, and the public felt comfortable '\n",
      " 'engaging with the campaign without putting their health at risk.\" New '\n",
      " 'Zealand First Leader Winston Peters -- who is Deputy Prime Minister in '\n",
      " \"Ardern's coalition government -- had also called publicly for the election \"\n",
      " 'to be delayed and issued a statement welcoming the move. New Zealand has '\n",
      " \"already spent five weeks under one of the world's strictest lockdowns, which \"\n",
      " 'closed most businesses and schools from March 25, and saw people stay at '\n",
      " 'home. It returned to level one on June 9 , with border controls remaining in '\n",
      " 'place but most citizens living life as normal -- until last week. As of '\n",
      " 'Monday afternoon local time, New Zealand had 58 confirmed cases believed to '\n",
      " 'be related to the most recent community cluster and an additional 20 active '\n",
      " 'cases linked to overseas travel, with returning residents still facing a '\n",
      " 'mandatory 14-day quarantine on arrival in the country. The announcement on '\n",
      " 'Tuesday that locally acquired cases of coronavirus had been confirmed in the '\n",
      " \"New Zealand's biggest city, Auckland, prompted the government to introduce \"\n",
      " 'strict level three lockdown measures on August 12. But at a live-streamed '\n",
      " 'media conference Monday, Ardern said it was clear \"the reemergence of Covid '\n",
      " 'in Auckland at the beginning of the formal campaign period has been cause '\n",
      " 'for concern.\" ')\n"
     ]
    }
   ],
   "source": [
    "lsa_summary = lsa_summarize('https://edition.cnn.com/2020/08/16/asia/new-zealand-ardern-election-delay-coronavirus/index.html', 10)\n",
    "pprint(lsa_summary)"
   ]
  },
  {
   "cell_type": "code",
   "execution_count": 23,
   "metadata": {
    "colab": {
     "base_uri": "https://localhost:8080/",
     "height": 598
    },
    "colab_type": "code",
    "id": "eshrTAu53H8p",
    "outputId": "3b226e4f-8b2f-435c-9220-94fbaea2a212"
   },
   "outputs": [
    {
     "name": "stdout",
     "output_type": "stream",
     "text": [
      "('Ardern said while the decision to change the election date rested solely '\n",
      " 'with her as Prime Minister, she consulted with other party leaders as '\n",
      " '\"moving an election date especially this late in an electoral cycle is a '\n",
      " 'significant decision.\" Ardern said New Zealand\\'s Electoral Commission had '\n",
      " 'been preparing for a range of circumstances, such as holding an election in '\n",
      " 'level two or three lockdown, and that she did not intend to change the '\n",
      " 'election date again. Leader of the opposition, National Party Leader Judith '\n",
      " 'Collins, had previously called for the election to be delayed until '\n",
      " 'November. In a statement after Ardern\\'s announcement Tuesday she said: \"It '\n",
      " \"was always National's view that to have a fair, democratic election, we \"\n",
      " 'needed to deal with this second wave of Covid-19 so politicians from all '\n",
      " 'parties had a reasonable chance to present their policies, and the public '\n",
      " 'felt comfortable engaging with the campaign without putting their health at '\n",
      " 'risk.\" New Zealand First Leader Winston Peters -- who is Deputy Prime '\n",
      " \"Minister in Ardern's coalition government -- had also called publicly for \"\n",
      " 'the election to be delayed and issued a statement welcoming the move. As of '\n",
      " 'Monday afternoon local time, New Zealand had 58 confirmed cases believed to '\n",
      " 'be related to the most recent community cluster and an additional 20 active '\n",
      " 'cases linked to overseas travel, with returning residents still facing a '\n",
      " \"mandatory 14-day quarantine on arrival in the country. Announcing Monday's \"\n",
      " 'numbers in a live-streamed update, Director-General of Health Dr. Ashley '\n",
      " 'Bloomfield said that record levels of testing were taking place, with nearly '\n",
      " \"100,000 of New Zealand's 597,956 Covid-19 tests completed in the last week \"\n",
      " 'or so. \"The sense we have is that we are dealing at the moment with a single '\n",
      " 'cluster -- a single outbreak -- and thanks to the efforts of the community '\n",
      " 'in coming forward for that testing we are getting ... a full idea of the '\n",
      " 'contours of the outbreak.\" The announcement on Tuesday that locally acquired '\n",
      " \"cases of coronavirus had been confirmed in the New Zealand's biggest city, \"\n",
      " 'Auckland, prompted the government to introduce strict level three lockdown '\n",
      " 'measures on August 12. The rest of the country was put into level two '\n",
      " 'lockdown, with both lockdown periods extended until at least August 26 as '\n",
      " 'further cases of coronavirus were confirmed. ')\n"
     ]
    }
   ],
   "source": [
    "luhn_summary = luhn_summarize('https://edition.cnn.com/2020/08/16/asia/new-zealand-ardern-election-delay-coronavirus/index.html', 10)\n",
    "pprint(luhn_summary)"
   ]
  },
  {
   "cell_type": "code",
   "execution_count": 113,
   "metadata": {
    "ExecuteTime": {
     "end_time": "2020-08-21T09:38:47.692254Z",
     "start_time": "2020-08-21T09:38:45.421685Z"
    },
    "colab": {
     "base_uri": "https://localhost:8080/",
     "height": 326
    },
    "colab_type": "code",
    "id": "jJWgxkp03IVl",
    "outputId": "c50a522c-fb88-4f72-9a1b-89e431417386"
   },
   "outputs": [
    {
     "name": "stdout",
     "output_type": "stream",
     "text": [
      "('Ardern said while the decision to change the election date rested solely '\n",
      " 'with her as Prime Minister, she consulted with other party leaders as '\n",
      " '\"moving an election date especially this late in an electoral cycle is a '\n",
      " 'significant decision.\" \"In the end what matters most is what is in the best '\n",
      " 'interests of voters and our democracy,\" she said. Ardern said New Zealand\\'s '\n",
      " 'Electoral Commission had been preparing for a range of circumstances, such '\n",
      " 'as holding an election in level two or three lockdown, and that she did not '\n",
      " 'intend to change the election date again. \"Covid is the world\\'s new normal. '\n",
      " '\"Holding an election during a Covid outbreak has the risk of serious '\n",
      " 'interference in our democracy. It returned to level one on June 9 , with '\n",
      " 'border controls remaining in place but most citizens living life as normal '\n",
      " '-- until last week. \"If we look at the number of new cases today -- given '\n",
      " 'the extent of testing that has happened over the last few days -- I think '\n",
      " 'that\\'s encouraging,\" Bloomfield said. Since March, New Zealand has reported '\n",
      " 'a total of 1,280 confirmed and 351 probable coronavirus cases and 22 deaths. '\n",
      " 'The announcement on Tuesday that locally acquired cases of coronavirus had '\n",
      " \"been confirmed in the New Zealand's biggest city, Auckland, prompted the \"\n",
      " 'government to introduce strict level three lockdown measures on August 12. '\n",
      " 'The rest of the country was put into level two lockdown, with both lockdown '\n",
      " 'periods extended until at least August 26 as further cases of coronavirus '\n",
      " 'were confirmed. ')\n"
     ]
    }
   ],
   "source": [
    "lex_summary = lex_summarize('https://edition.cnn.com/2020/08/16/asia/new-zealand-ardern-election-delay-coronavirus/index.html', 10)\n",
    "pprint(lex_summary)"
   ]
  }
 ],
 "metadata": {
  "colab": {
   "collapsed_sections": [],
   "name": "BertSum.ipynb",
   "provenance": []
  },
  "kernelspec": {
   "display_name": "Python 3",
   "language": "python",
   "name": "python3"
  },
  "language_info": {
   "codemirror_mode": {
    "name": "ipython",
    "version": 3
   },
   "file_extension": ".py",
   "mimetype": "text/x-python",
   "name": "python",
   "nbconvert_exporter": "python",
   "pygments_lexer": "ipython3",
   "version": "3.6.9"
  },
  "latex_envs": {
   "LaTeX_envs_menu_present": true,
   "autoclose": false,
   "autocomplete": true,
   "bibliofile": "biblio.bib",
   "cite_by": "apalike",
   "current_citInitial": 1,
   "eqLabelWithNumbers": true,
   "eqNumInitial": 1,
   "hotkeys": {
    "equation": "Ctrl-E",
    "itemize": "Ctrl-I"
   },
   "labels_anchors": false,
   "latex_user_defs": false,
   "report_style_numbering": false,
   "user_envs_cfg": false
  },
  "toc": {
   "base_numbering": 1,
   "nav_menu": {},
   "number_sections": true,
   "sideBar": true,
   "skip_h1_title": false,
   "title_cell": "Table of Contents",
   "title_sidebar": "Contents",
   "toc_cell": false,
   "toc_position": {},
   "toc_section_display": true,
   "toc_window_display": false
  },
  "varInspector": {
   "cols": {
    "lenName": 16,
    "lenType": 16,
    "lenVar": 40
   },
   "kernels_config": {
    "python": {
     "delete_cmd_postfix": "",
     "delete_cmd_prefix": "del ",
     "library": "var_list.py",
     "varRefreshCmd": "print(var_dic_list())"
    },
    "r": {
     "delete_cmd_postfix": ") ",
     "delete_cmd_prefix": "rm(",
     "library": "var_list.r",
     "varRefreshCmd": "cat(var_dic_list()) "
    }
   },
   "types_to_exclude": [
    "module",
    "function",
    "builtin_function_or_method",
    "instance",
    "_Feature"
   ],
   "window_display": false
  },
  "widgets": {
   "application/vnd.jupyter.widget-state+json": {
    "0afedae2d9554d6daa8cb0aea50fee88": {
     "model_module": "@jupyter-widgets/base",
     "model_name": "LayoutModel",
     "state": {
      "_model_module": "@jupyter-widgets/base",
      "_model_module_version": "1.2.0",
      "_model_name": "LayoutModel",
      "_view_count": null,
      "_view_module": "@jupyter-widgets/base",
      "_view_module_version": "1.2.0",
      "_view_name": "LayoutView",
      "align_content": null,
      "align_items": null,
      "align_self": null,
      "border": null,
      "bottom": null,
      "display": null,
      "flex": null,
      "flex_flow": null,
      "grid_area": null,
      "grid_auto_columns": null,
      "grid_auto_flow": null,
      "grid_auto_rows": null,
      "grid_column": null,
      "grid_gap": null,
      "grid_row": null,
      "grid_template_areas": null,
      "grid_template_columns": null,
      "grid_template_rows": null,
      "height": null,
      "justify_content": null,
      "justify_items": null,
      "left": null,
      "margin": null,
      "max_height": null,
      "max_width": null,
      "min_height": null,
      "min_width": null,
      "object_fit": null,
      "object_position": null,
      "order": null,
      "overflow": null,
      "overflow_x": null,
      "overflow_y": null,
      "padding": null,
      "right": null,
      "top": null,
      "visibility": null,
      "width": null
     }
    },
    "0fc1e186a2a742d8aa05f3fd8b415d62": {
     "model_module": "@jupyter-widgets/base",
     "model_name": "LayoutModel",
     "state": {
      "_model_module": "@jupyter-widgets/base",
      "_model_module_version": "1.2.0",
      "_model_name": "LayoutModel",
      "_view_count": null,
      "_view_module": "@jupyter-widgets/base",
      "_view_module_version": "1.2.0",
      "_view_name": "LayoutView",
      "align_content": null,
      "align_items": null,
      "align_self": null,
      "border": null,
      "bottom": null,
      "display": null,
      "flex": null,
      "flex_flow": null,
      "grid_area": null,
      "grid_auto_columns": null,
      "grid_auto_flow": null,
      "grid_auto_rows": null,
      "grid_column": null,
      "grid_gap": null,
      "grid_row": null,
      "grid_template_areas": null,
      "grid_template_columns": null,
      "grid_template_rows": null,
      "height": null,
      "justify_content": null,
      "justify_items": null,
      "left": null,
      "margin": null,
      "max_height": null,
      "max_width": null,
      "min_height": null,
      "min_width": null,
      "object_fit": null,
      "object_position": null,
      "order": null,
      "overflow": null,
      "overflow_x": null,
      "overflow_y": null,
      "padding": null,
      "right": null,
      "top": null,
      "visibility": null,
      "width": null
     }
    },
    "17d4d52df9864ce48937aa6273c085a6": {
     "model_module": "@jupyter-widgets/controls",
     "model_name": "FloatProgressModel",
     "state": {
      "_dom_classes": [],
      "_model_module": "@jupyter-widgets/controls",
      "_model_module_version": "1.5.0",
      "_model_name": "FloatProgressModel",
      "_view_count": null,
      "_view_module": "@jupyter-widgets/controls",
      "_view_module_version": "1.5.0",
      "_view_name": "ProgressView",
      "bar_style": "success",
      "description": "Downloading: 100%",
      "description_tooltip": null,
      "layout": "IPY_MODEL_f91f1dfb0c5949fe9a9121c76c98492f",
      "max": 231508,
      "min": 0,
      "orientation": "horizontal",
      "style": "IPY_MODEL_893a49dfa86941119d6775f0ebb60e3d",
      "value": 231508
     }
    },
    "1c99a6eebb1a49a78251b34ba765a007": {
     "model_module": "@jupyter-widgets/controls",
     "model_name": "HBoxModel",
     "state": {
      "_dom_classes": [],
      "_model_module": "@jupyter-widgets/controls",
      "_model_module_version": "1.5.0",
      "_model_name": "HBoxModel",
      "_view_count": null,
      "_view_module": "@jupyter-widgets/controls",
      "_view_module_version": "1.5.0",
      "_view_name": "HBoxView",
      "box_style": "",
      "children": [
       "IPY_MODEL_d1398b430783406e950869fc15204a7d",
       "IPY_MODEL_a3f6630af33b4198ae5d34e59b677804"
      ],
      "layout": "IPY_MODEL_ab7f66be5c194594a16e736691fb5216"
     }
    },
    "282e84fc347e4ff3834486d9cc33cddb": {
     "model_module": "@jupyter-widgets/controls",
     "model_name": "FloatProgressModel",
     "state": {
      "_dom_classes": [],
      "_model_module": "@jupyter-widgets/controls",
      "_model_module_version": "1.5.0",
      "_model_name": "FloatProgressModel",
      "_view_count": null,
      "_view_module": "@jupyter-widgets/controls",
      "_view_module_version": "1.5.0",
      "_view_name": "ProgressView",
      "bar_style": "success",
      "description": "Downloading: 100%",
      "description_tooltip": null,
      "layout": "IPY_MODEL_f8a711e32763495fa5da4803153f9612",
      "max": 1344997306,
      "min": 0,
      "orientation": "horizontal",
      "style": "IPY_MODEL_ae4c4dc1728e44379fc9a6bac25cb6c1",
      "value": 1344997306
     }
    },
    "3e55da1538f84739a11ea512544dbc25": {
     "model_module": "@jupyter-widgets/controls",
     "model_name": "HTMLModel",
     "state": {
      "_dom_classes": [],
      "_model_module": "@jupyter-widgets/controls",
      "_model_module_version": "1.5.0",
      "_model_name": "HTMLModel",
      "_view_count": null,
      "_view_module": "@jupyter-widgets/controls",
      "_view_module_version": "1.5.0",
      "_view_name": "HTMLView",
      "description": "",
      "description_tooltip": null,
      "layout": "IPY_MODEL_971466fa948c4930bad03c39c1b12f4e",
      "placeholder": "​",
      "style": "IPY_MODEL_6a7ecd4666654c689bd1639c74094f91",
      "value": " 1.34G/1.34G [01:04&lt;00:00, 20.8MB/s]"
     }
    },
    "52664d40719741e087651d0b1b1b9a75": {
     "model_module": "@jupyter-widgets/controls",
     "model_name": "DescriptionStyleModel",
     "state": {
      "_model_module": "@jupyter-widgets/controls",
      "_model_module_version": "1.5.0",
      "_model_name": "DescriptionStyleModel",
      "_view_count": null,
      "_view_module": "@jupyter-widgets/base",
      "_view_module_version": "1.2.0",
      "_view_name": "StyleView",
      "description_width": ""
     }
    },
    "62fc91b285cc4f34b27b5c3785918f2d": {
     "model_module": "@jupyter-widgets/controls",
     "model_name": "HTMLModel",
     "state": {
      "_dom_classes": [],
      "_model_module": "@jupyter-widgets/controls",
      "_model_module_version": "1.5.0",
      "_model_name": "HTMLModel",
      "_view_count": null,
      "_view_module": "@jupyter-widgets/controls",
      "_view_module_version": "1.5.0",
      "_view_name": "HTMLView",
      "description": "",
      "description_tooltip": null,
      "layout": "IPY_MODEL_9f0aebd6d3a942dd9a1e5bdbc6f5faa5",
      "placeholder": "​",
      "style": "IPY_MODEL_952c355bec9544a7b9cb5cadedbab7d2",
      "value": " 232k/232k [00:00&lt;00:00, 720kB/s]"
     }
    },
    "6a7ecd4666654c689bd1639c74094f91": {
     "model_module": "@jupyter-widgets/controls",
     "model_name": "DescriptionStyleModel",
     "state": {
      "_model_module": "@jupyter-widgets/controls",
      "_model_module_version": "1.5.0",
      "_model_name": "DescriptionStyleModel",
      "_view_count": null,
      "_view_module": "@jupyter-widgets/base",
      "_view_module_version": "1.2.0",
      "_view_name": "StyleView",
      "description_width": ""
     }
    },
    "6e6b3a6c1aa24e468a0518567520fb9a": {
     "model_module": "@jupyter-widgets/controls",
     "model_name": "ProgressStyleModel",
     "state": {
      "_model_module": "@jupyter-widgets/controls",
      "_model_module_version": "1.5.0",
      "_model_name": "ProgressStyleModel",
      "_view_count": null,
      "_view_module": "@jupyter-widgets/base",
      "_view_module_version": "1.2.0",
      "_view_name": "StyleView",
      "bar_color": null,
      "description_width": "initial"
     }
    },
    "71cf774e675c417fba016f04f2e81b27": {
     "model_module": "@jupyter-widgets/base",
     "model_name": "LayoutModel",
     "state": {
      "_model_module": "@jupyter-widgets/base",
      "_model_module_version": "1.2.0",
      "_model_name": "LayoutModel",
      "_view_count": null,
      "_view_module": "@jupyter-widgets/base",
      "_view_module_version": "1.2.0",
      "_view_name": "LayoutView",
      "align_content": null,
      "align_items": null,
      "align_self": null,
      "border": null,
      "bottom": null,
      "display": null,
      "flex": null,
      "flex_flow": null,
      "grid_area": null,
      "grid_auto_columns": null,
      "grid_auto_flow": null,
      "grid_auto_rows": null,
      "grid_column": null,
      "grid_gap": null,
      "grid_row": null,
      "grid_template_areas": null,
      "grid_template_columns": null,
      "grid_template_rows": null,
      "height": null,
      "justify_content": null,
      "justify_items": null,
      "left": null,
      "margin": null,
      "max_height": null,
      "max_width": null,
      "min_height": null,
      "min_width": null,
      "object_fit": null,
      "object_position": null,
      "order": null,
      "overflow": null,
      "overflow_x": null,
      "overflow_y": null,
      "padding": null,
      "right": null,
      "top": null,
      "visibility": null,
      "width": null
     }
    },
    "893a49dfa86941119d6775f0ebb60e3d": {
     "model_module": "@jupyter-widgets/controls",
     "model_name": "ProgressStyleModel",
     "state": {
      "_model_module": "@jupyter-widgets/controls",
      "_model_module_version": "1.5.0",
      "_model_name": "ProgressStyleModel",
      "_view_count": null,
      "_view_module": "@jupyter-widgets/base",
      "_view_module_version": "1.2.0",
      "_view_name": "StyleView",
      "bar_color": null,
      "description_width": "initial"
     }
    },
    "952c355bec9544a7b9cb5cadedbab7d2": {
     "model_module": "@jupyter-widgets/controls",
     "model_name": "DescriptionStyleModel",
     "state": {
      "_model_module": "@jupyter-widgets/controls",
      "_model_module_version": "1.5.0",
      "_model_name": "DescriptionStyleModel",
      "_view_count": null,
      "_view_module": "@jupyter-widgets/base",
      "_view_module_version": "1.2.0",
      "_view_name": "StyleView",
      "description_width": ""
     }
    },
    "971466fa948c4930bad03c39c1b12f4e": {
     "model_module": "@jupyter-widgets/base",
     "model_name": "LayoutModel",
     "state": {
      "_model_module": "@jupyter-widgets/base",
      "_model_module_version": "1.2.0",
      "_model_name": "LayoutModel",
      "_view_count": null,
      "_view_module": "@jupyter-widgets/base",
      "_view_module_version": "1.2.0",
      "_view_name": "LayoutView",
      "align_content": null,
      "align_items": null,
      "align_self": null,
      "border": null,
      "bottom": null,
      "display": null,
      "flex": null,
      "flex_flow": null,
      "grid_area": null,
      "grid_auto_columns": null,
      "grid_auto_flow": null,
      "grid_auto_rows": null,
      "grid_column": null,
      "grid_gap": null,
      "grid_row": null,
      "grid_template_areas": null,
      "grid_template_columns": null,
      "grid_template_rows": null,
      "height": null,
      "justify_content": null,
      "justify_items": null,
      "left": null,
      "margin": null,
      "max_height": null,
      "max_width": null,
      "min_height": null,
      "min_width": null,
      "object_fit": null,
      "object_position": null,
      "order": null,
      "overflow": null,
      "overflow_x": null,
      "overflow_y": null,
      "padding": null,
      "right": null,
      "top": null,
      "visibility": null,
      "width": null
     }
    },
    "9f0aebd6d3a942dd9a1e5bdbc6f5faa5": {
     "model_module": "@jupyter-widgets/base",
     "model_name": "LayoutModel",
     "state": {
      "_model_module": "@jupyter-widgets/base",
      "_model_module_version": "1.2.0",
      "_model_name": "LayoutModel",
      "_view_count": null,
      "_view_module": "@jupyter-widgets/base",
      "_view_module_version": "1.2.0",
      "_view_name": "LayoutView",
      "align_content": null,
      "align_items": null,
      "align_self": null,
      "border": null,
      "bottom": null,
      "display": null,
      "flex": null,
      "flex_flow": null,
      "grid_area": null,
      "grid_auto_columns": null,
      "grid_auto_flow": null,
      "grid_auto_rows": null,
      "grid_column": null,
      "grid_gap": null,
      "grid_row": null,
      "grid_template_areas": null,
      "grid_template_columns": null,
      "grid_template_rows": null,
      "height": null,
      "justify_content": null,
      "justify_items": null,
      "left": null,
      "margin": null,
      "max_height": null,
      "max_width": null,
      "min_height": null,
      "min_width": null,
      "object_fit": null,
      "object_position": null,
      "order": null,
      "overflow": null,
      "overflow_x": null,
      "overflow_y": null,
      "padding": null,
      "right": null,
      "top": null,
      "visibility": null,
      "width": null
     }
    },
    "a3f6630af33b4198ae5d34e59b677804": {
     "model_module": "@jupyter-widgets/controls",
     "model_name": "HTMLModel",
     "state": {
      "_dom_classes": [],
      "_model_module": "@jupyter-widgets/controls",
      "_model_module_version": "1.5.0",
      "_model_name": "HTMLModel",
      "_view_count": null,
      "_view_module": "@jupyter-widgets/controls",
      "_view_module_version": "1.5.0",
      "_view_name": "HTMLView",
      "description": "",
      "description_tooltip": null,
      "layout": "IPY_MODEL_0fc1e186a2a742d8aa05f3fd8b415d62",
      "placeholder": "​",
      "style": "IPY_MODEL_52664d40719741e087651d0b1b1b9a75",
      "value": " 434/434 [00:00&lt;00:00, 1.33kB/s]"
     }
    },
    "aac7ecbcb75e45f9af511f3e0c3b6346": {
     "model_module": "@jupyter-widgets/controls",
     "model_name": "HBoxModel",
     "state": {
      "_dom_classes": [],
      "_model_module": "@jupyter-widgets/controls",
      "_model_module_version": "1.5.0",
      "_model_name": "HBoxModel",
      "_view_count": null,
      "_view_module": "@jupyter-widgets/controls",
      "_view_module_version": "1.5.0",
      "_view_name": "HBoxView",
      "box_style": "",
      "children": [
       "IPY_MODEL_282e84fc347e4ff3834486d9cc33cddb",
       "IPY_MODEL_3e55da1538f84739a11ea512544dbc25"
      ],
      "layout": "IPY_MODEL_0afedae2d9554d6daa8cb0aea50fee88"
     }
    },
    "ab7f66be5c194594a16e736691fb5216": {
     "model_module": "@jupyter-widgets/base",
     "model_name": "LayoutModel",
     "state": {
      "_model_module": "@jupyter-widgets/base",
      "_model_module_version": "1.2.0",
      "_model_name": "LayoutModel",
      "_view_count": null,
      "_view_module": "@jupyter-widgets/base",
      "_view_module_version": "1.2.0",
      "_view_name": "LayoutView",
      "align_content": null,
      "align_items": null,
      "align_self": null,
      "border": null,
      "bottom": null,
      "display": null,
      "flex": null,
      "flex_flow": null,
      "grid_area": null,
      "grid_auto_columns": null,
      "grid_auto_flow": null,
      "grid_auto_rows": null,
      "grid_column": null,
      "grid_gap": null,
      "grid_row": null,
      "grid_template_areas": null,
      "grid_template_columns": null,
      "grid_template_rows": null,
      "height": null,
      "justify_content": null,
      "justify_items": null,
      "left": null,
      "margin": null,
      "max_height": null,
      "max_width": null,
      "min_height": null,
      "min_width": null,
      "object_fit": null,
      "object_position": null,
      "order": null,
      "overflow": null,
      "overflow_x": null,
      "overflow_y": null,
      "padding": null,
      "right": null,
      "top": null,
      "visibility": null,
      "width": null
     }
    },
    "ae4c4dc1728e44379fc9a6bac25cb6c1": {
     "model_module": "@jupyter-widgets/controls",
     "model_name": "ProgressStyleModel",
     "state": {
      "_model_module": "@jupyter-widgets/controls",
      "_model_module_version": "1.5.0",
      "_model_name": "ProgressStyleModel",
      "_view_count": null,
      "_view_module": "@jupyter-widgets/base",
      "_view_module_version": "1.2.0",
      "_view_name": "StyleView",
      "bar_color": null,
      "description_width": "initial"
     }
    },
    "b5d81e669cf64c13b9a731a99a70fac5": {
     "model_module": "@jupyter-widgets/controls",
     "model_name": "HBoxModel",
     "state": {
      "_dom_classes": [],
      "_model_module": "@jupyter-widgets/controls",
      "_model_module_version": "1.5.0",
      "_model_name": "HBoxModel",
      "_view_count": null,
      "_view_module": "@jupyter-widgets/controls",
      "_view_module_version": "1.5.0",
      "_view_name": "HBoxView",
      "box_style": "",
      "children": [
       "IPY_MODEL_17d4d52df9864ce48937aa6273c085a6",
       "IPY_MODEL_62fc91b285cc4f34b27b5c3785918f2d"
      ],
      "layout": "IPY_MODEL_ca9f7b0dc4934365a42b8d6ab34d5c04"
     }
    },
    "ca9f7b0dc4934365a42b8d6ab34d5c04": {
     "model_module": "@jupyter-widgets/base",
     "model_name": "LayoutModel",
     "state": {
      "_model_module": "@jupyter-widgets/base",
      "_model_module_version": "1.2.0",
      "_model_name": "LayoutModel",
      "_view_count": null,
      "_view_module": "@jupyter-widgets/base",
      "_view_module_version": "1.2.0",
      "_view_name": "LayoutView",
      "align_content": null,
      "align_items": null,
      "align_self": null,
      "border": null,
      "bottom": null,
      "display": null,
      "flex": null,
      "flex_flow": null,
      "grid_area": null,
      "grid_auto_columns": null,
      "grid_auto_flow": null,
      "grid_auto_rows": null,
      "grid_column": null,
      "grid_gap": null,
      "grid_row": null,
      "grid_template_areas": null,
      "grid_template_columns": null,
      "grid_template_rows": null,
      "height": null,
      "justify_content": null,
      "justify_items": null,
      "left": null,
      "margin": null,
      "max_height": null,
      "max_width": null,
      "min_height": null,
      "min_width": null,
      "object_fit": null,
      "object_position": null,
      "order": null,
      "overflow": null,
      "overflow_x": null,
      "overflow_y": null,
      "padding": null,
      "right": null,
      "top": null,
      "visibility": null,
      "width": null
     }
    },
    "d1398b430783406e950869fc15204a7d": {
     "model_module": "@jupyter-widgets/controls",
     "model_name": "FloatProgressModel",
     "state": {
      "_dom_classes": [],
      "_model_module": "@jupyter-widgets/controls",
      "_model_module_version": "1.5.0",
      "_model_name": "FloatProgressModel",
      "_view_count": null,
      "_view_module": "@jupyter-widgets/controls",
      "_view_module_version": "1.5.0",
      "_view_name": "ProgressView",
      "bar_style": "success",
      "description": "Downloading: 100%",
      "description_tooltip": null,
      "layout": "IPY_MODEL_71cf774e675c417fba016f04f2e81b27",
      "max": 434,
      "min": 0,
      "orientation": "horizontal",
      "style": "IPY_MODEL_6e6b3a6c1aa24e468a0518567520fb9a",
      "value": 434
     }
    },
    "f8a711e32763495fa5da4803153f9612": {
     "model_module": "@jupyter-widgets/base",
     "model_name": "LayoutModel",
     "state": {
      "_model_module": "@jupyter-widgets/base",
      "_model_module_version": "1.2.0",
      "_model_name": "LayoutModel",
      "_view_count": null,
      "_view_module": "@jupyter-widgets/base",
      "_view_module_version": "1.2.0",
      "_view_name": "LayoutView",
      "align_content": null,
      "align_items": null,
      "align_self": null,
      "border": null,
      "bottom": null,
      "display": null,
      "flex": null,
      "flex_flow": null,
      "grid_area": null,
      "grid_auto_columns": null,
      "grid_auto_flow": null,
      "grid_auto_rows": null,
      "grid_column": null,
      "grid_gap": null,
      "grid_row": null,
      "grid_template_areas": null,
      "grid_template_columns": null,
      "grid_template_rows": null,
      "height": null,
      "justify_content": null,
      "justify_items": null,
      "left": null,
      "margin": null,
      "max_height": null,
      "max_width": null,
      "min_height": null,
      "min_width": null,
      "object_fit": null,
      "object_position": null,
      "order": null,
      "overflow": null,
      "overflow_x": null,
      "overflow_y": null,
      "padding": null,
      "right": null,
      "top": null,
      "visibility": null,
      "width": null
     }
    },
    "f91f1dfb0c5949fe9a9121c76c98492f": {
     "model_module": "@jupyter-widgets/base",
     "model_name": "LayoutModel",
     "state": {
      "_model_module": "@jupyter-widgets/base",
      "_model_module_version": "1.2.0",
      "_model_name": "LayoutModel",
      "_view_count": null,
      "_view_module": "@jupyter-widgets/base",
      "_view_module_version": "1.2.0",
      "_view_name": "LayoutView",
      "align_content": null,
      "align_items": null,
      "align_self": null,
      "border": null,
      "bottom": null,
      "display": null,
      "flex": null,
      "flex_flow": null,
      "grid_area": null,
      "grid_auto_columns": null,
      "grid_auto_flow": null,
      "grid_auto_rows": null,
      "grid_column": null,
      "grid_gap": null,
      "grid_row": null,
      "grid_template_areas": null,
      "grid_template_columns": null,
      "grid_template_rows": null,
      "height": null,
      "justify_content": null,
      "justify_items": null,
      "left": null,
      "margin": null,
      "max_height": null,
      "max_width": null,
      "min_height": null,
      "min_width": null,
      "object_fit": null,
      "object_position": null,
      "order": null,
      "overflow": null,
      "overflow_x": null,
      "overflow_y": null,
      "padding": null,
      "right": null,
      "top": null,
      "visibility": null,
      "width": null
     }
    }
   }
  }
 },
 "nbformat": 4,
 "nbformat_minor": 1
}
